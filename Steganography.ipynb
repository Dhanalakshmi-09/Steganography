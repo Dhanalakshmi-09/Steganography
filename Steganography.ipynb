{
  "nbformat": 4,
  "nbformat_minor": 0,
  "metadata": {
    "colab": {
      "provenance": []
    },
    "kernelspec": {
      "name": "python3",
      "display_name": "Python 3"
    },
    "language_info": {
      "name": "python"
    }
  },
  "cells": [
    {
      "cell_type": "code",
      "execution_count": 11,
      "metadata": {
        "colab": {
          "base_uri": "https://localhost:8080/"
        },
        "id": "jTsHU--cKqNH",
        "outputId": "f7eb4eda-fe64-4e89-cb66-b17a7b646870"
      },
      "outputs": [
        {
          "output_type": "stream",
          "name": "stdout",
          "text": [
            "Message encoded and saved as encoded_image.png\n",
            "Decoded message: Hello, this is a secret message!ÿÿÿÿÿÿÿÿÿÿÿÿÿÿÿÿÿÿÿÿÿÿÿÿÿÿÿÿÿÿÿÿÿÿÿÿÿÿÿÿÿÿÿÿÿÿÿÿÿÿÿÿÿÿÿÿÿÿÿÿÿÿÿÿÿÿÿÿÿÿÿÿÿÿÿÿÿÿÿÿÿÿÿÿÿÿÿÿÿÿÿÿÿÿÿÿÿÿÿÿÿÿÿÿÿÿÿÿÿÿÿÿÿ¯ÿÿÿÿÿÿÿÿÿÿÿÿÿÿÿÿÿÿÿÿÿÿÿÿÿÿÿÿÿÿÿÿÿÿÿÿÿÿÿÿÿÿÿÿÿÿÿÿÿÿÿÿÿÿÿÿÿÿÿÿÿÿÿÿÿÿÿÿÿÿÿÿÿÿÿÿÿÿÿÿÿÿÿÿÿÿÿÿÿÿÿãÿÿÿÿÿÿÿÿÿÿÿÿÿÿÿÿÿÿÿÿÿÿÿÿÿÿÿÿÿÿÿÿÿÿÿÿÿÿÿÿÿÿÿÿÿÿÿÿÿÿÿÿÿÿÿÿÿÿÿÿÿÿÿÿÿÿÿÿÿÿÿÿÿÿÿÿÿÿÿÿÿÿÿÿÿÿÿÿÿÿÿÌßÿÿÿÿÿÿÿÿÿÿÿÿÿÿÿÿÿÿÿÿÿÿÿÿÿÿÿÿÿÿÿÿÿÿÿÿÿÿÿÿÿÿÿÿÿÿÿÿÿÿÿÿÿÿÿÿÿÿÿÿÿÿÿÿÿÿÿÿÿÿÿÿÿÿÿÿÿÿÿÿÿÿÿÿð¿ÿÿÿÿô\u0017ÿÿÿÿÿÿÿÿÿÿÿÿÿÿÿÿÿÿÿÿÿÿÿÿÿÿÿÿÿÿÿÿÿÿÿÿÿÿÿÿÿÿÿÿÿÿÿÿÿÿÿÿÿÿÿÿÿÿÿÿÿÿÿÿÿÿÿÿÿÿÿÿÿÿÿÿÿÿÿÿÿÿÿÿæÿÿÿÿèeÿÿÿÿÿÿÿÿþ¿ÿÿÿÿÿÿÿÿÿÿÿÿÿÿÿÿÿÿÿÿÿÿÿÿÿÿÿÿÿÿÿÿÿÿÿÿÿÿÿÿÿÿÿÿÿÿÿÿÿÿÿÿÿÿÿÿÿÿÿÿÿÿÿÿÿÿÿÿÿÿÿÿÿÿù\u000fÿÿÿÿúÀÿÿÿÿÿÿÿÿ·ÿÿÿÿÿÿÿÿÿÿÿÿÿÿÿÿÿÿÿÿÿÿÿÿÿÿÿÿÿÿÿÿÿÿÿÿÿÿÿÿÿÿÿÿÿÿÿÿÿÿÿÿÿÿÿÿÿÿÿÿÿÿÿÿÿÿÿÿÿÿÿÿÿÿñ5ÿÿÿÿóaÇÿÿÿÿÿÿÿÿÈÿÿÿûÿÿÿÿÿÿÿÿÿÿÿÿÿÿÿÿÿÿÿÿÿÿÿÿÿÿÿÿÿÿÿÿÿÿÿÿÿÿÿÿÿÿÿÿÿÿÿÿÿÿÿÿÿÿÿÿÿÿÿÿÿÿÿÿÿÿÿÿÿVB¿ÿÿÿè`wÿÿÿÿÿÿÿþfËÿÿÿú¿ÿÿÿÿÿÿÿÿÿÿÿÿÿÿÿÿÿÿÿÿÿÿÿÿÿÿÿÿÿÿÿÿÿÿÿÿÿÿÿÿÿÿÿÿÿÿÿÿÿÿÿÿÿÿÿÿÿÿÿÿÿÿÿÿÿÿÿÿæíÿÿÿû\tÿÿÿÿÿÿøh\u0004ÿÿÿüÍÿÿÿÿÿÿÿÿÿÿÿÿÿÿÿÿÿÿÿÿÿÿÿÿÿÿÿÿÿÿÿÿÿÿÿÿÿÿÿÿÿÿÿÿÿÿÿÿÿÿÿÿÿÿÿÿÿÿÿÿÿÿÿÿïÿÿù'Xÿÿñ\u0004N/ÿÿÿÿÿ¬¹¿ÿþÿÿÿÿÿÿÿÿÿÿÿÿÿÿÿÿÿÿÿÿÿÿÿÿÿÿÿÿÿÿÿÿÿÿÿÿÿÿÿÿÿÿÿÿÿÿÿÿÿÿÿÿÿÿÿÿÿÿÿÿÿÿÿúßþ¸Ó_üÿÿFI\u0012?ÿÿýnÀGH\u0004¦\u000fÿù\f\f?ÿÿÿÿÿÿÿÿÿÿÿÿÿÿÿÿÿÿÿÿÿÿÿÿÿÿÿÿÿÿÿÿÿÿÿÿÿÿÿÿÿÿÿÿÿÿÿÿÿÿÿÿÿÿÿÿÿÿÿÿÿÿÿý\u0017ÿy$'þ\u001fÿþÖ~bY\u0001I\n"
          ]
        }
      ],
      "source": [
        "import numpy as np\n",
        "from PIL import Image\n",
        "\n",
        "def encode_message(image_path, message, output_path):\n",
        "    # Open the image and convert to RGB\n",
        "    image = Image.open(image_path).convert('RGB')\n",
        "    pixels = np.array(image)\n",
        "\n",
        "    # Convert the message to binary\n",
        "    message_binary = ''.join([format(ord(i), \"08b\") for i in message])\n",
        "    message_length = len(message_binary)\n",
        "\n",
        "    # Flatten the image pixels array\n",
        "    flat_pixels = pixels.flatten()\n",
        "\n",
        "    # Modify the LSB of each pixel according to the message binary\n",
        "    for i in range(message_length):\n",
        "        flat_pixels[i] = (flat_pixels[i] & ~1) | int(message_binary[i])\n",
        "\n",
        "    # Reshape the flat pixel array back to the original shape\n",
        "    pixels = flat_pixels.reshape(pixels.shape)\n",
        "\n",
        "    # Save the new image with the hidden message\n",
        "    encoded_image = Image.fromarray(pixels)\n",
        "    encoded_image.save(output_path)\n",
        "    print(f\"Message encoded and saved as {output_path}\")\n",
        "\n",
        "def decode_message(image_path):\n",
        "    # Open the image and convert to RGB\n",
        "    image = Image.open(image_path).convert('RGB')\n",
        "    pixels = np.array(image).flatten()\n",
        "\n",
        "    # Extract the LSB of each pixel to get the binary message\n",
        "    binary_message = [str(pixels[i] & 1) for i in range(len(pixels))]\n",
        "\n",
        "    # Group binary digits into bytes\n",
        "    binary_message = ''.join(binary_message)\n",
        "    bytes_message = [binary_message[i:i+8] for i in range(0, len(binary_message), 8)]\n",
        "\n",
        "    # Convert bytes to characters until a null character (end of message) is found\n",
        "    message = ''\n",
        "    for byte in bytes_message:\n",
        "        char = chr(int(byte, 2))\n",
        "        if char == '\\x00':\n",
        "            break\n",
        "        message += char\n",
        "\n",
        "    return message\n",
        "\n",
        "# Example usage\n",
        "image_path = 'input_image.png'  # Path to your input image\n",
        "output_path = 'encoded_image.png'  # Path to save the encoded image\n",
        "secret_message = 'Hello, this is a secret message!'\n",
        "\n",
        "# Encode the message\n",
        "encode_message(image_path, secret_message, output_path)\n",
        "\n",
        "# Decode the message\n",
        "decoded_message = decode_message(output_path)\n",
        "print(f\"Decoded message: {decoded_message}\")\n",
        "\n"
      ]
    }
  ]
}